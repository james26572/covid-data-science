{
 "cells": [
  {
   "cell_type": "code",
   "execution_count": 1,
   "metadata": {},
   "outputs": [
    {
     "name": "stderr",
     "output_type": "stream",
     "text": [
      "C:\\Users\\buckl\\AppData\\Local\\Temp/ipykernel_20296/4269054278.py:7: FutureWarning: The default value of numeric_only in DataFrameGroupBy.sum is deprecated. In a future version, numeric_only will default to False. Either specify numeric_only or select only columns which should be valid for the function.\n",
      "  df_total_crimes = crime_df.groupby(pd.Grouper(freq='Q')).sum()['VALUE']\n"
     ]
    },
    {
     "data": {
      "text/html": [
       "<div>\n",
       "<style scoped>\n",
       "    .dataframe tbody tr th:only-of-type {\n",
       "        vertical-align: middle;\n",
       "    }\n",
       "\n",
       "    .dataframe tbody tr th {\n",
       "        vertical-align: top;\n",
       "    }\n",
       "\n",
       "    .dataframe thead th {\n",
       "        text-align: right;\n",
       "    }\n",
       "</style>\n",
       "<table border=\"1\" class=\"dataframe\">\n",
       "  <thead>\n",
       "    <tr style=\"text-align: right;\">\n",
       "      <th></th>\n",
       "      <th>Quarter</th>\n",
       "      <th>Total Crimes</th>\n",
       "    </tr>\n",
       "  </thead>\n",
       "  <tbody>\n",
       "    <tr>\n",
       "      <th>68</th>\n",
       "      <td>2020-03-31</td>\n",
       "      <td>98909</td>\n",
       "    </tr>\n",
       "    <tr>\n",
       "      <th>69</th>\n",
       "      <td>2020-06-30</td>\n",
       "      <td>85465</td>\n",
       "    </tr>\n",
       "    <tr>\n",
       "      <th>70</th>\n",
       "      <td>2020-09-30</td>\n",
       "      <td>99022</td>\n",
       "    </tr>\n",
       "    <tr>\n",
       "      <th>71</th>\n",
       "      <td>2020-12-31</td>\n",
       "      <td>86302</td>\n",
       "    </tr>\n",
       "    <tr>\n",
       "      <th>72</th>\n",
       "      <td>2021-03-31</td>\n",
       "      <td>80416</td>\n",
       "    </tr>\n",
       "    <tr>\n",
       "      <th>73</th>\n",
       "      <td>2021-06-30</td>\n",
       "      <td>89373</td>\n",
       "    </tr>\n",
       "    <tr>\n",
       "      <th>74</th>\n",
       "      <td>2021-09-30</td>\n",
       "      <td>93887</td>\n",
       "    </tr>\n",
       "    <tr>\n",
       "      <th>75</th>\n",
       "      <td>2021-12-31</td>\n",
       "      <td>96755</td>\n",
       "    </tr>\n",
       "    <tr>\n",
       "      <th>76</th>\n",
       "      <td>2022-03-31</td>\n",
       "      <td>95945</td>\n",
       "    </tr>\n",
       "    <tr>\n",
       "      <th>77</th>\n",
       "      <td>2022-06-30</td>\n",
       "      <td>105111</td>\n",
       "    </tr>\n",
       "    <tr>\n",
       "      <th>78</th>\n",
       "      <td>2022-09-30</td>\n",
       "      <td>107998</td>\n",
       "    </tr>\n",
       "  </tbody>\n",
       "</table>\n",
       "</div>"
      ],
      "text/plain": [
       "      Quarter  Total Crimes\n",
       "68 2020-03-31         98909\n",
       "69 2020-06-30         85465\n",
       "70 2020-09-30         99022\n",
       "71 2020-12-31         86302\n",
       "72 2021-03-31         80416\n",
       "73 2021-06-30         89373\n",
       "74 2021-09-30         93887\n",
       "75 2021-12-31         96755\n",
       "76 2022-03-31         95945\n",
       "77 2022-06-30        105111\n",
       "78 2022-09-30        107998"
      ]
     },
     "execution_count": 1,
     "metadata": {},
     "output_type": "execute_result"
    }
   ],
   "source": [
    "import pandas as pd\n",
    "\n",
    "crime_df = pd.read_csv(\"recorded_crime_ireland .csv\")\n",
    "\n",
    "crime_df['Quarter'] = pd.to_datetime(crime_df['Quarter'])\n",
    "crime_df.set_index('Quarter', inplace=True)\n",
    "df_total_crimes = crime_df.groupby(pd.Grouper(freq='Q')).sum()['VALUE']\n",
    "crime_df = pd.DataFrame({'Quarter': df_total_crimes.index, 'Total Crimes': df_total_crimes.values})\n",
    "crime_df\n",
    "\n",
    "crime_df = crime_df[crime_df['Quarter'] >= '2020Q1']\n",
    "crime_df\n",
    "\n"
   ]
  },
  {
   "cell_type": "code",
   "execution_count": 2,
   "metadata": {},
   "outputs": [
    {
     "data": {
      "text/html": [
       "<div>\n",
       "<style scoped>\n",
       "    .dataframe tbody tr th:only-of-type {\n",
       "        vertical-align: middle;\n",
       "    }\n",
       "\n",
       "    .dataframe tbody tr th {\n",
       "        vertical-align: top;\n",
       "    }\n",
       "\n",
       "    .dataframe thead th {\n",
       "        text-align: right;\n",
       "    }\n",
       "</style>\n",
       "<table border=\"1\" class=\"dataframe\">\n",
       "  <thead>\n",
       "    <tr style=\"text-align: right;\">\n",
       "      <th></th>\n",
       "      <th>Quarter</th>\n",
       "      <th>Cases</th>\n",
       "    </tr>\n",
       "  </thead>\n",
       "  <tbody>\n",
       "    <tr>\n",
       "      <th>0</th>\n",
       "      <td>2020-03-31 00:00:00+00:00</td>\n",
       "      <td>471</td>\n",
       "    </tr>\n",
       "    <tr>\n",
       "      <th>1</th>\n",
       "      <td>2020-06-30 00:00:00+00:00</td>\n",
       "      <td>6622</td>\n",
       "    </tr>\n",
       "    <tr>\n",
       "      <th>2</th>\n",
       "      <td>2020-09-30 00:00:00+00:00</td>\n",
       "      <td>789</td>\n",
       "    </tr>\n",
       "    <tr>\n",
       "      <th>3</th>\n",
       "      <td>2020-12-31 00:00:00+00:00</td>\n",
       "      <td>3006</td>\n",
       "    </tr>\n",
       "    <tr>\n",
       "      <th>4</th>\n",
       "      <td>2021-03-31 00:00:00+00:00</td>\n",
       "      <td>12345</td>\n",
       "    </tr>\n",
       "    <tr>\n",
       "      <th>5</th>\n",
       "      <td>2021-06-30 00:00:00+00:00</td>\n",
       "      <td>3337</td>\n",
       "    </tr>\n",
       "    <tr>\n",
       "      <th>6</th>\n",
       "      <td>2021-09-30 00:00:00+00:00</td>\n",
       "      <td>3850</td>\n",
       "    </tr>\n",
       "    <tr>\n",
       "      <th>7</th>\n",
       "      <td>2021-12-31 00:00:00+00:00</td>\n",
       "      <td>8853</td>\n",
       "    </tr>\n",
       "    <tr>\n",
       "      <th>8</th>\n",
       "      <td>2022-03-31 00:00:00+00:00</td>\n",
       "      <td>5796</td>\n",
       "    </tr>\n",
       "    <tr>\n",
       "      <th>9</th>\n",
       "      <td>2022-06-30 00:00:00+00:00</td>\n",
       "      <td>3067</td>\n",
       "    </tr>\n",
       "    <tr>\n",
       "      <th>10</th>\n",
       "      <td>2022-09-30 00:00:00+00:00</td>\n",
       "      <td>2132</td>\n",
       "    </tr>\n",
       "  </tbody>\n",
       "</table>\n",
       "</div>"
      ],
      "text/plain": [
       "                     Quarter  Cases\n",
       "0  2020-03-31 00:00:00+00:00    471\n",
       "1  2020-06-30 00:00:00+00:00   6622\n",
       "2  2020-09-30 00:00:00+00:00    789\n",
       "3  2020-12-31 00:00:00+00:00   3006\n",
       "4  2021-03-31 00:00:00+00:00  12345\n",
       "5  2021-06-30 00:00:00+00:00   3337\n",
       "6  2021-09-30 00:00:00+00:00   3850\n",
       "7  2021-12-31 00:00:00+00:00   8853\n",
       "8  2022-03-31 00:00:00+00:00   5796\n",
       "9  2022-06-30 00:00:00+00:00   3067\n",
       "10 2022-09-30 00:00:00+00:00   2132"
      ]
     },
     "execution_count": 2,
     "metadata": {},
     "output_type": "execute_result"
    }
   ],
   "source": [
    "covid_df = pd.read_csv(\"COVID-19_NOCA_ICUBIS_Historic_Time_Series.csv\")\n",
    "\n",
    "covid_df['extract'] = pd.to_datetime(covid_df['extract'])\n",
    "\n",
    "\n",
    "covid_df.set_index('extract', inplace=True)\n",
    "\n",
    "\n",
    "quarterly_cases = covid_df['ncovidconf'].resample('Q').sum()\n",
    "\n",
    "covid_df = pd.DataFrame({'Quarter': quarterly_cases.index, 'Cases': quarterly_cases.values})\n",
    "covid_df = covid_df[covid_df['Quarter'] <= '2022Q4']\n",
    "covid_df\n",
    "\n"
   ]
  },
  {
   "cell_type": "code",
   "execution_count": 3,
   "metadata": {},
   "outputs": [
    {
     "data": {
      "image/png": "[encoded data removed]",
      "text/plain": [
       "<Figure size 432x288 with 1 Axes>"
      ]
     },
     "metadata": {
      "needs_background": "light"
     },
     "output_type": "display_data"
    }
   ],
   "source": [
    "from matplotlib import pyplot as plt\n",
    "plt.scatter(covid_df[\"Cases\"], crime_df[\"Total Crimes\"])\n",
    "plt.xlabel('Quarterly confirmed COVID cases in Ireland')\n",
    "plt.ylabel('Quarterly reported crimes in Ireland')\n",
    "plt.title('Correlation between COVID cases and reported crimes')\n",
    "quarters = pd.date_range(start='2020-03-31', end='2022-09-30', freq='Q')\n",
    "\n",
    "\n",
    "plt.show()\n",
    "\n"
   ]
  },
  {
   "cell_type": "code",
   "execution_count": 4,
   "metadata": {},
   "outputs": [
    {
     "data": {
      "text/plain": [
       "-0.5975063187489282"
      ]
     },
     "execution_count": 4,
     "metadata": {},
     "output_type": "execute_result"
    }
   ],
   "source": [
    "import numpy as np\n",
    "\n",
    "x = np.array(covid_df[\"Cases\"])\n",
    "y = np.array(crime_df[\"Total Crimes\"])\n",
    "\n",
    "corr_matrix = np.corrcoef(x, y)\n",
    "corr = corr_matrix[0, 1]\n",
    "\n",
    "corr"
   ]
  },
  {
   "cell_type": "code",
   "execution_count": null,
   "metadata": {},
   "outputs": [],
   "source": []
  }
 ],
 "metadata": {
  "kernelspec": {
   "display_name": "base",
   "language": "python",
   "name": "python3"
  },
  "language_info": {
   "codemirror_mode": {
    "name": "ipython",
    "version": 3
   },
   "file_extension": ".py",
   "mimetype": "text/x-python",
   "name": "python",
   "nbconvert_exporter": "python",
   "pygments_lexer": "ipython3",
   "version": "3.9.7"
  },
  "orig_nbformat": 4
 },
 "nbformat": 4,
 "nbformat_minor": 2
}
